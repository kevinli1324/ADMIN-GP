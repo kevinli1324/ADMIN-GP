{
 "cells": [
  {
   "cell_type": "code",
   "execution_count": 1,
   "id": "f99613eb-3838-4a49-8f67-90207f6eef66",
   "metadata": {
    "collapsed": true,
    "jupyter": {
     "outputs_hidden": true
    },
    "scrolled": true
   },
   "outputs": [],
   "source": [
    "from sim_functions import *\n",
    "from helpers import *\n",
    "from Variational_Functions import *\n",
    "import pickle\n",
    "from gpytorch.distributions import MultivariateNormal\n",
    "import pickle\n",
    "import pandas as pd\n",
    "import matplotlib.pyplot as plt\n",
    "import seaborn as sns\n",
    "\n",
    "\n",
    "def matrix_norm_dist(V, U, A, n = 10):\n",
    "       \n",
    "    mu = A.T.flatten().double()\n",
    "    prec = torch.kron(torch.inverse(V).double(), torch.inverse(U).double())\n",
    "    MV1 = torch.distributions.multivariate_normal.MultivariateNormal(mu.double(), precision_matrix= prec.double())\n",
    "    \n",
    "    return MV1    \n",
    "def getTotLik(Y, X, u, t, A):\n",
    "    J = len(A)\n",
    "    Z = t.Z\n",
    "    A_list = t.A_list\n",
    "    w_list = t.w.float()**2\n",
    "    theta = t.phi[0]\n",
    "    nu = t.phi[1]**2\n",
    "    sig = t.phi[-1]\n",
    "    lam = t.lam\n",
    "\n",
    "    #A: num Components x samps\n",
    "    #$\n",
    "\n",
    "    #grab the probability of u\n",
    "    Kmm = get_covxy(Z, Z, theta =  theta, nu = nu)\n",
    "    Kmmc = CholLinearOperator(TriangularLinearOperator(psd_safe_cholesky(Kmm, jitter = 1e-6)))\n",
    "    u_prob = MultivariateNormal(torch.zeros(u.shape[0]).cuda(), Kmm).log_prob(u)\n",
    "    \n",
    "    #Kmi = torch.inverse(Kmm)\n",
    "    Kmi = CholLinearOperator(TriangularLinearOperator(to_linear_operator(Kmm).add_jitter(1e-6).cholesky())).inverse().to_dense()\n",
    "    Kmn_sum = 0\n",
    "    Knn_sum = 0\n",
    "    Kxm_list = []\n",
    "    for i in range(len(A)):\n",
    "        Xn = A[i].mm(X.T).T\n",
    "        Kmn_sum += get_covxy(Z, Xn, theta = theta, nu = nu)\n",
    "        Knn_sum += get_covxy(Xn, Xn, theta = theta, nu = nu)\n",
    "    \n",
    "    \n",
    "    noise_var = torch.eye(Y.shape[0]).cuda()*sig**2\n",
    "    Ksolveu  = Kmmc.solve(u)\n",
    "    y_prob = MultivariateNormal(Kmn_sum.T @ Ksolveu, Knn_sum - (1/J)*Kmn_sum.T @ Kmmc.solve(Kmn_sum) + noise_var).log_prob(Y)\n",
    "    U = torch.eye(A_list[0].shape[0]).cuda()\n",
    "    A_prob = 0\n",
    "    for i in range(len(A)):\n",
    "        #mnorm = matrix_norm_dist(V = torch.eye(X.shape[1]).cuda()*lam[i]**2, U = U, A = A[i])\n",
    "        #A_prob += mnorm.log_prob(A[i].flatten())\n",
    "        A_prob +=  torch.distributions.Laplace(0, lam[i]**2).log_prob(A[i].flatten()).sum()\n",
    "    \n",
    "    return y_prob + u_prob + A_prob\n",
    "    \n",
    "\n",
    "\n",
    "def getVariationalDist(t, X, Y):\n",
    "    n = X.shape[0]\n",
    "    Z = t.Z\n",
    "    A_list = t.A_list\n",
    "    w_list = t.w.float()**2\n",
    "    theta = t.phi[0]\n",
    "    nu = t.phi[1]**2\n",
    "    sig = t.phi[-1]\n",
    "    lam = t.lam\n",
    "\n",
    "    \n",
    "    Kmm = get_covxy(X = Z, Y = Z, theta = theta, nu = nu)\n",
    "    phi0 = fphi0(nu, n)\n",
    "    \n",
    "    phi1_list = []\n",
    "    phi2_list = []\n",
    "    KL_sum = 0\n",
    "    for i in range(len(A_list)):\n",
    "        phi1_list.append(sfphi1(X= X, Z = Z, theta = theta, nu = nu, w = w_list[i], A = A_list[i]))\n",
    "        phi2_list.append(sfphi2(X= X, Z = Z, theta = theta, nu = nu, w = w_list[i], A = A_list[i]))\n",
    "        KL_sum += skl(A = A_list[i], w = w_list[i], lam = lam[i]**2)\n",
    "        \n",
    "    phi1_sum = torch.cat([m[None] for m in phi1_list]).sum(0)\n",
    "    phi2_trace = torch.cat([m[None] for m in phi2_list]).sum(0)\n",
    "    \n",
    "    phi2_sum = 0\n",
    "    for i in range(len(A_list)):\n",
    "        for j in range(len(A_list)):\n",
    "            if i == j:\n",
    "                phi2_sum += phi2_list[i]\n",
    "            else:\n",
    "                phi2_sum += phi1_list[i].mm(phi1_list[j].T)\n",
    "    \n",
    "    mFdq1(Y = Y, sig = sig, Kmm = Kmm, phi0 = phi0*len(A_list), \n",
    "                 phi1 = phi1_sum, phi2 = phi2_sum, phi2_trace=  phi2_trace)\n",
    "    \n",
    "    V = torch.square(1/sig)*phi2_sum + Kmm\n",
    "    VC = CholLinearOperator(TriangularLinearOperator(to_linear_operator(V).add_jitter(1e-6).cholesky()))\n",
    "    \n",
    "    P = torch.square(1/sig)*phi2_sum\n",
    "    D = Kmm\n",
    "    W = VC\n",
    "    y_bar = phi1_sum @ Y\n",
    "    \n",
    "    u_mu = Kmm @ VC.solve(y_bar)\n",
    "    u_Sig = Kmm @ VC.solve(Kmm)\n",
    "    u_dist = MultivariateNormal(u_mu, u_Sig)\n",
    "    U = torch.eye(A_list[0].shape[0]).cuda()\n",
    "    batch_dist = [matrix_norm_dist(V = torch.eye(X.shape[1]).cuda()*w_list[i]**2, U = U, A = A_list[i]) for i in range(len(A_list))]\n",
    "    \n",
    "    return u_dist, batch_dist"
   ]
  },
  {
   "cell_type": "code",
   "execution_count": 2,
   "id": "cc653c2a-1629-4bd7-89bd-216348b2d786",
   "metadata": {
    "collapsed": true,
    "jupyter": {
     "outputs_hidden": true
    },
    "scrolled": true
   },
   "outputs": [
    {
     "name": "stdout",
     "output_type": "stream",
     "text": [
      "dimension 20 , fold 0, sample 300\n"
     ]
    },
    {
     "name": "stderr",
     "output_type": "stream",
     "text": [
      "  0%|          | 0/2000 [00:00<?, ?it/s]"
     ]
    },
    {
     "name": "stdout",
     "output_type": "stream",
     "text": [
      "first optimization\n"
     ]
    },
    {
     "name": "stderr",
     "output_type": "stream",
     "text": [
      "Exception ignored in: <bound method IPythonKernel._clean_thread_parent_frames of <ipykernel.ipkernel.IPythonKernel object at 0x7f212ca88950>>\n",
      "Traceback (most recent call last):\n",
      "  File \"/opt/conda/lib/python3.12/site-packages/ipykernel/ipkernel.py\", line 775, in _clean_thread_parent_frames\n",
      "    def _clean_thread_parent_frames(\n",
      "\n",
      "KeyboardInterrupt: \n",
      "Exception ignored in: <bound method IPythonKernel._clean_thread_parent_frames of <ipykernel.ipkernel.IPythonKernel object at 0x7f212ca88950>>\n",
      "Traceback (most recent call last):\n",
      "  File \"/opt/conda/lib/python3.12/site-packages/ipykernel/ipkernel.py\", line 775, in _clean_thread_parent_frames\n",
      "    def _clean_thread_parent_frames(\n",
      "\n",
      "KeyboardInterrupt: \n",
      " 12%|█▏        | 236/2000 [00:16<02:04, 14.12it/s, loss=952]    \n",
      "  0%|          | 2/2000 [00:00<02:36, 12.76it/s, loss=6.7e+4]\n"
     ]
    },
    {
     "name": "stdout",
     "output_type": "stream",
     "text": [
      "first optimization\n"
     ]
    },
    {
     "name": "stderr",
     "output_type": "stream",
     "text": [
      "\n",
      "KeyboardInterrupt\n",
      "\n"
     ]
    }
   ],
   "source": [
    "sample_vec = [300, 400, 500]\n",
    "folds = 20\n",
    "nm = 125\n",
    "D_vec = [20]\n",
    "d_dict = {}\n",
    "for D in D_vec:\n",
    "    s_dict = {}\n",
    "    for s in sample_vec:\n",
    "        f_list = []\n",
    "        for f in range(folds):\n",
    "            print(\"dimension {} , fold {}, sample {}\".format(D, f, s))\n",
    "            X, Y, Xtest, Ytest = draw_exp(ntrain = s, ntest = 300, D = D, stride = int(D//3))\n",
    "            \n",
    "            gpy_dict = gpy_stats(X = X, Y = Y, Xtest = Xtest, Ytest=  Ytest)\n",
    "\n",
    "\n",
    "            try:\n",
    "                vim3_dict = vim_stats(X = X, Y = Y, Xtest = Xtest, Ytest=  Ytest, \n",
    "                                        d1 = 4, J = 3,nm = nm, ft = 1.75, iters = 2000, \n",
    "                                     verbose = False, lr = .005, retry = True)\n",
    "            except:\n",
    "                vim3_dict = vim_stats(X = X, Y = Y, Xtest = Xtest, Ytest=  Ytest, \n",
    "                                        d1 = 4, J = 3, nm = nm, ft = 1.75, iters =2000, \n",
    "                                        lr = .0025, retry = False)\n",
    "                \n",
    "                \n",
    "\n",
    "            vim3_dict['X'] = X\n",
    "            vim3_dict['Y'] = Y\n",
    "            f_dict = {'vim3': vim3_dict}\n",
    "            #print(f_dict)\n",
    "            print(\"-------------------------------\")\n",
    "            f_list.append(f_dict)\n",
    "            #d_dict[D][s][f]['dpa'] = dpa_dict\n",
    "            #d_dict[D][s][f]['dle'] = dle_dict\n",
    "            #print(d_dict[D][s][f])\n",
    "        s_dict[s] = f_list\n",
    "        f = open(\"sim_results/check_s{}_d{}\".format(s, D), \"wb\")\n",
    "        pickle.dump(s_dict, f)\n",
    "        f.close()\n",
    "    d_dict[D] = s_dict\n",
    "    f = open(\"sim_results/check_d{}\".format(D), \"wb\")\n",
    "    pickle.dump(d_dict, f)\n",
    "    f.close()\n"
   ]
  },
  {
   "cell_type": "code",
   "execution_count": null,
   "id": "5138be71-1c48-48b7-a868-5a4514539929",
   "metadata": {
    "collapsed": true,
    "jupyter": {
     "outputs_hidden": true
    },
    "scrolled": true
   },
   "outputs": [],
   "source": [
    "\n",
    "store_dict = {}\n",
    "for s in [300, 400, 500]:\n",
    "    with open(r\"sim_results/check_d20\", \"rb\") as input_file:\n",
    "        e = pickle.load(input_file)\n",
    "    s_vals = []\n",
    "    for i in range(20):\n",
    "        t = e[20][s][i]['vim3']['model']\n",
    "        X = e[20][s][i]['vim3']['X'].double()\n",
    "        Y = e[20][s][i]['vim3']['Y'].double()\n",
    "        udist, mDist = getVariationalDist(t = t, X =X, Y = Y )\n",
    "        ratio_list = []\n",
    "\n",
    "        for i in range(10000):\n",
    "            udist, mDist = getVariationalDist(t = t, X =X, Y = Y )\n",
    "            u = udist.rsample()\n",
    "            A = [mDist[i].rsample().reshape(4, 20)  for i in range(3)]\n",
    "            Apost = sum([adist.log_prob(A[i].flatten()) for i, adist in enumerate(mDist)])\n",
    "            upost = udist.log_prob(u)\n",
    "            loglik = getTotLik(Y= Y, X = X, u = u, A = A, t = t)\n",
    "            ratio_list.append( (loglik - (Apost + upost)).item())\n",
    "        trunc = np.sort(np.asarray(ratio_list))[-1000:]\n",
    "        alpha = 1000/(trunc -trunc.min()).sum()\n",
    "        s_vals.append(alpha)\n",
    "    store_dict[s] = s_vals\n",
    "with open(\"alphas.pkl\", \"wb\") as file:\n",
    "    pickle.dump(store_dict, file)"
   ]
  },
  {
   "cell_type": "markdown",
   "id": "99328c59-72fd-4aa0-b102-8f4713891fc0",
   "metadata": {},
   "source": [
    "# Appendix E figure 15"
   ]
  },
  {
   "cell_type": "code",
   "execution_count": 4,
   "id": "4e43a979-cd78-441f-89fe-c092da9e39e5",
   "metadata": {
    "collapsed": true,
    "jupyter": {
     "outputs_hidden": true
    }
   },
   "outputs": [
    {
     "data": {
      "image/png": "[encoded data removed]",
      "text/plain": [
       "<Figure size 750x500 with 1 Axes>"
      ]
     },
     "metadata": {},
     "output_type": "display_data"
    }
   ],
   "source": [
    "with open(r\"alphas.pkl\", \"rb\") as input_file:\n",
    "    alpha_dict = pickle.load(input_file)\n",
    "\n",
    "fig, axs = plt.subplots(1, 1, figsize = (7.5,5))\n",
    "alpha_frame = pd.DataFrame(alpha_dict)\n",
    "sns.boxplot(data= alpha_frame, ax = axs, fill = False, color = \"black\")\n",
    "axs.set_ylabel(\"PSIS Metric\", fontsize = 15)\n",
    "axs.set_xlabel(\"Sample Size\", fontsize= 15)\n",
    "plt.savefig(\"paper_plots/psis_test.png\", dpi = 500)"
   ]
  }
 ],
 "metadata": {
  "kernelspec": {
   "display_name": "Python 3 (ipykernel)",
   "language": "python",
   "name": "python3"
  },
  "language_info": {
   "codemirror_mode": {
    "name": "ipython",
    "version": 3
   },
   "file_extension": ".py",
   "mimetype": "text/x-python",
   "name": "python",
   "nbconvert_exporter": "python",
   "pygments_lexer": "ipython3",
   "version": "3.12.7"
  }
 },
 "nbformat": 4,
 "nbformat_minor": 5
}
