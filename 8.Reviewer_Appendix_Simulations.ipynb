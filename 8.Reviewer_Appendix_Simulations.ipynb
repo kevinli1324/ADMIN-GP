{
 "cells": [
  {
   "cell_type": "code",
   "execution_count": 1,
   "id": "d1115b0c-68b8-4ee0-8c38-7ccd637f3c7b",
   "metadata": {},
   "outputs": [],
   "source": [
    "from sim_functions import *\n",
    "from helpers import *\n",
    "from Variational_Functions import *"
   ]
  },
  {
   "cell_type": "markdown",
   "id": "9dbacee4-9130-4f57-9349-5c1e50b34e72",
   "metadata": {},
   "source": [
    "# Simulation for Response to Reviewer 1 Major Comment 1, Review Figures 1, 2, 3"
   ]
  },
  {
   "cell_type": "code",
   "execution_count": 2,
   "id": "f0e5cef7-155c-453b-85fe-f65c20ceec15",
   "metadata": {},
   "outputs": [
    {
     "name": "stderr",
     "output_type": "stream",
     "text": [
      "  0%|          | 0/5000 [00:00<?, ?it/s]"
     ]
    },
    {
     "name": "stdout",
     "output_type": "stream",
     "text": [
      "first optimization\n"
     ]
    },
    {
     "name": "stderr",
     "output_type": "stream",
     "text": [
      "  0%|          | 0/5000 [00:01<?, ?it/s]\n"
     ]
    },
    {
     "ename": "RuntimeError",
     "evalue": "CUDA error: an illegal memory access was encountered\nCUDA kernel errors might be asynchronously reported at some other API call, so the stacktrace below might be incorrect.\nFor debugging consider passing CUDA_LAUNCH_BLOCKING=1\nCompile with `TORCH_USE_CUDA_DSA` to enable device-side assertions.\n",
     "output_type": "error",
     "traceback": [
      "\u001b[0;31m---------------------------------------------------------------------------\u001b[0m",
      "\u001b[0;31mRuntimeError\u001b[0m                              Traceback (most recent call last)",
      "Cell \u001b[0;32mIn[2], line 22\u001b[0m\n\u001b[1;32m     21\u001b[0m \u001b[38;5;28;01mtry\u001b[39;00m:\n\u001b[0;32m---> 22\u001b[0m     vim3_dict \u001b[38;5;241m=\u001b[39m \u001b[43mvim_stats\u001b[49m\u001b[43m(\u001b[49m\u001b[43mX\u001b[49m\u001b[43m \u001b[49m\u001b[38;5;241;43m=\u001b[39;49m\u001b[43m \u001b[49m\u001b[43mX\u001b[49m\u001b[43m,\u001b[49m\u001b[43m \u001b[49m\u001b[43mY\u001b[49m\u001b[43m \u001b[49m\u001b[38;5;241;43m=\u001b[39;49m\u001b[43m \u001b[49m\u001b[43mY\u001b[49m\u001b[43m,\u001b[49m\u001b[43m \u001b[49m\u001b[43mXtest\u001b[49m\u001b[43m \u001b[49m\u001b[38;5;241;43m=\u001b[39;49m\u001b[43m \u001b[49m\u001b[43mXtest\u001b[49m\u001b[43m,\u001b[49m\u001b[43m \u001b[49m\u001b[43mYtest\u001b[49m\u001b[38;5;241;43m=\u001b[39;49m\u001b[43m  \u001b[49m\u001b[43mYtest\u001b[49m\u001b[43m,\u001b[49m\u001b[43m \u001b[49m\n\u001b[1;32m     23\u001b[0m \u001b[43m                            \u001b[49m\u001b[43md1\u001b[49m\u001b[43m \u001b[49m\u001b[38;5;241;43m=\u001b[39;49m\u001b[43m \u001b[49m\u001b[38;5;241;43m4\u001b[39;49m\u001b[43m,\u001b[49m\u001b[43m \u001b[49m\u001b[43mJ\u001b[49m\u001b[43m \u001b[49m\u001b[38;5;241;43m=\u001b[39;49m\u001b[43m \u001b[49m\u001b[38;5;241;43m3\u001b[39;49m\u001b[43m,\u001b[49m\u001b[43mnm\u001b[49m\u001b[43m \u001b[49m\u001b[38;5;241;43m=\u001b[39;49m\u001b[43m \u001b[49m\u001b[43mnm\u001b[49m\u001b[43m,\u001b[49m\u001b[43m \u001b[49m\u001b[43mft\u001b[49m\u001b[43m \u001b[49m\u001b[38;5;241;43m=\u001b[39;49m\u001b[43m \u001b[49m\u001b[38;5;241;43m1.75\u001b[39;49m\u001b[43m,\u001b[49m\u001b[43m \u001b[49m\u001b[43miters\u001b[49m\u001b[43m \u001b[49m\u001b[38;5;241;43m=\u001b[39;49m\u001b[43m \u001b[49m\u001b[38;5;241;43m5000\u001b[39;49m\u001b[43m,\u001b[49m\u001b[43m \u001b[49m\u001b[43mverbose\u001b[49m\u001b[43m \u001b[49m\u001b[38;5;241;43m=\u001b[39;49m\u001b[43m \u001b[49m\u001b[38;5;28;43;01mFalse\u001b[39;49;00m\u001b[43m,\u001b[49m\u001b[43m \u001b[49m\u001b[43mlr\u001b[49m\u001b[43m \u001b[49m\u001b[38;5;241;43m=\u001b[39;49m\u001b[43m \u001b[49m\u001b[38;5;241;43m.005\u001b[39;49m\u001b[43m,\u001b[49m\u001b[43m \u001b[49m\u001b[43mretry\u001b[49m\u001b[43m \u001b[49m\u001b[38;5;241;43m=\u001b[39;49m\u001b[43m \u001b[49m\u001b[38;5;28;43;01mTrue\u001b[39;49;00m\u001b[43m,\u001b[49m\u001b[43m \u001b[49m\u001b[43mlam_init\u001b[49m\u001b[43m \u001b[49m\u001b[38;5;241;43m=\u001b[39;49m\u001b[43m \u001b[49m\u001b[38;5;241;43m.01\u001b[39;49m\u001b[43m)\u001b[49m\n\u001b[1;32m     24\u001b[0m \u001b[38;5;28;01mexcept\u001b[39;00m:\n",
      "File \u001b[0;32m~/Reproducibility/helpers.py:275\u001b[0m, in \u001b[0;36mvim_stats\u001b[0;34m(X, Y, Xtest, Ytest, d1, J, nm, verbose, iters, lr, ft, retry, tinit, nuinit, g, lam_init)\u001b[0m\n\u001b[1;32m    273\u001b[0m         nuinit \u001b[38;5;241m=\u001b[39m \u001b[38;5;241m2\u001b[39m\n\u001b[0;32m--> 275\u001b[0m t \u001b[38;5;241m=\u001b[39m \u001b[43mvim_fitb\u001b[49m\u001b[43m(\u001b[49m\u001b[43mX\u001b[49m\u001b[43m \u001b[49m\u001b[38;5;241;43m=\u001b[39;49m\u001b[43m \u001b[49m\u001b[43mX\u001b[49m\u001b[43m,\u001b[49m\u001b[43m \u001b[49m\u001b[43mY\u001b[49m\u001b[43m \u001b[49m\u001b[38;5;241;43m=\u001b[39;49m\u001b[43m \u001b[49m\u001b[43mY\u001b[49m\u001b[43m,\u001b[49m\u001b[43m \u001b[49m\u001b[43md1\u001b[49m\u001b[43m \u001b[49m\u001b[38;5;241;43m=\u001b[39;49m\u001b[43m \u001b[49m\u001b[43md1\u001b[49m\u001b[43m,\u001b[49m\u001b[43mnm\u001b[49m\u001b[43m \u001b[49m\u001b[38;5;241;43m=\u001b[39;49m\u001b[43m \u001b[49m\u001b[43mnm\u001b[49m\n\u001b[1;32m    276\u001b[0m \u001b[43m            \u001b[49m\u001b[43m,\u001b[49m\u001b[43m \u001b[49m\u001b[43mtinit\u001b[49m\u001b[43m \u001b[49m\u001b[38;5;241;43m=\u001b[39;49m\u001b[43m \u001b[49m\u001b[43mtinit\u001b[49m\u001b[43m,\u001b[49m\u001b[43m \u001b[49m\u001b[43mnuinit\u001b[49m\u001b[43m \u001b[49m\u001b[38;5;241;43m=\u001b[39;49m\u001b[43m \u001b[49m\u001b[43mnuinit\u001b[49m\u001b[43m,\u001b[49m\u001b[43m \u001b[49m\u001b[43mJ\u001b[49m\u001b[43m \u001b[49m\u001b[38;5;241;43m=\u001b[39;49m\u001b[43m \u001b[49m\u001b[43mJ\u001b[49m\u001b[43m,\u001b[49m\u001b[43miters\u001b[49m\u001b[43m \u001b[49m\u001b[38;5;241;43m=\u001b[39;49m\u001b[43m \u001b[49m\u001b[43miters\u001b[49m\u001b[43m,\u001b[49m\u001b[43m \u001b[49m\u001b[43mg\u001b[49m\u001b[43m \u001b[49m\u001b[38;5;241;43m=\u001b[39;49m\u001b[43m \u001b[49m\u001b[43mg\u001b[49m\u001b[43m,\u001b[49m\u001b[43m \u001b[49m\u001b[43mverbose\u001b[49m\u001b[43m \u001b[49m\u001b[38;5;241;43m=\u001b[39;49m\u001b[43m \u001b[49m\u001b[43mverbose\u001b[49m\u001b[43m,\u001b[49m\u001b[43m \u001b[49m\u001b[43mlr\u001b[49m\u001b[43m \u001b[49m\u001b[38;5;241;43m=\u001b[39;49m\u001b[43m \u001b[49m\u001b[43mlr\u001b[49m\u001b[43m,\u001b[49m\u001b[43m \u001b[49m\u001b[43mlam_init\u001b[49m\u001b[43m \u001b[49m\u001b[38;5;241;43m=\u001b[39;49m\u001b[43m \u001b[49m\u001b[43mlam_init\u001b[49m\u001b[43m)\u001b[49m\n\u001b[1;32m    278\u001b[0m myp, pvar \u001b[38;5;241m=\u001b[39m get_mean_pred(t \u001b[38;5;241m=\u001b[39m t, X \u001b[38;5;241m=\u001b[39m X, Y\u001b[38;5;241m=\u001b[39m Y,Xtest \u001b[38;5;241m=\u001b[39m Xtest)\n",
      "File \u001b[0;32m~/Reproducibility/helpers.py:90\u001b[0m, in \u001b[0;36mvim_fitb\u001b[0;34m(X, Y, d1, J, nm, tinit, nuinit, verbose, iters, lr, lam_init, g, init, rep, ret_loss)\u001b[0m\n\u001b[1;32m     89\u001b[0m optimizer\u001b[38;5;241m.\u001b[39mzero_grad()\n\u001b[0;32m---> 90\u001b[0m loss \u001b[38;5;241m=\u001b[39m \u001b[43mmvlb1\u001b[49m\u001b[43m(\u001b[49m\u001b[43mX\u001b[49m\u001b[43m \u001b[49m\u001b[38;5;241;43m=\u001b[39;49m\u001b[43m \u001b[49m\u001b[43mX\u001b[49m\u001b[43m,\u001b[49m\u001b[43m \u001b[49m\u001b[43mY\u001b[49m\u001b[38;5;241;43m=\u001b[39;49m\u001b[43m \u001b[49m\u001b[43mY\u001b[49m\u001b[43m,\u001b[49m\u001b[43m \u001b[49m\u001b[43mZ\u001b[49m\u001b[43m \u001b[49m\u001b[38;5;241;43m=\u001b[39;49m\u001b[43m \u001b[49m\u001b[43mt\u001b[49m\u001b[38;5;241;43m.\u001b[39;49m\u001b[43mZ\u001b[49m\u001b[43m,\u001b[49m\u001b[43m \u001b[49m\u001b[43mA_list\u001b[49m\u001b[43m \u001b[49m\u001b[38;5;241;43m=\u001b[39;49m\u001b[43m \u001b[49m\u001b[43mt\u001b[49m\u001b[38;5;241;43m.\u001b[39;49m\u001b[43mA_list\u001b[49m\u001b[43m,\u001b[49m\u001b[43m \u001b[49m\u001b[43mw_list\u001b[49m\u001b[43m \u001b[49m\u001b[38;5;241;43m=\u001b[39;49m\u001b[43m \u001b[49m\u001b[43mt\u001b[49m\u001b[38;5;241;43m.\u001b[39;49m\u001b[43mw\u001b[49m\u001b[38;5;241;43m*\u001b[39;49m\u001b[38;5;241;43m*\u001b[39;49m\u001b[38;5;241;43m2\u001b[39;49m\u001b[43m,\u001b[49m\n\u001b[1;32m     91\u001b[0m \u001b[43m             \u001b[49m\u001b[43mtheta\u001b[49m\u001b[43m \u001b[49m\u001b[38;5;241;43m=\u001b[39;49m\u001b[43m \u001b[49m\u001b[43mt\u001b[49m\u001b[38;5;241;43m.\u001b[39;49m\u001b[43mphi\u001b[49m\u001b[43m[\u001b[49m\u001b[38;5;241;43m0\u001b[39;49m\u001b[43m]\u001b[49m\u001b[43m,\u001b[49m\u001b[43m \u001b[49m\u001b[43mnu\u001b[49m\u001b[43m \u001b[49m\u001b[38;5;241;43m=\u001b[39;49m\u001b[43m \u001b[49m\u001b[43mt\u001b[49m\u001b[38;5;241;43m.\u001b[39;49m\u001b[43mphi\u001b[49m\u001b[43m[\u001b[49m\u001b[38;5;241;43m1\u001b[39;49m\u001b[43m]\u001b[49m\u001b[38;5;241;43m*\u001b[39;49m\u001b[38;5;241;43m*\u001b[39;49m\u001b[38;5;241;43m2\u001b[39;49m\u001b[43m,\u001b[49m\u001b[43m \u001b[49m\n\u001b[1;32m     92\u001b[0m \u001b[43m           \u001b[49m\u001b[43msig\u001b[49m\u001b[43m \u001b[49m\u001b[38;5;241;43m=\u001b[39;49m\u001b[43m \u001b[49m\u001b[43mt\u001b[49m\u001b[38;5;241;43m.\u001b[39;49m\u001b[43mphi\u001b[49m\u001b[43m[\u001b[49m\u001b[38;5;241;43m-\u001b[39;49m\u001b[38;5;241;43m1\u001b[39;49m\u001b[43m]\u001b[49m\u001b[43m,\u001b[49m\u001b[43m \u001b[49m\u001b[43mlam\u001b[49m\u001b[43m \u001b[49m\u001b[38;5;241;43m=\u001b[39;49m\u001b[43m \u001b[49m\u001b[43mt\u001b[49m\u001b[38;5;241;43m.\u001b[39;49m\u001b[43mlam\u001b[49m\u001b[43m)\u001b[49m\n\u001b[1;32m     93\u001b[0m loss \u001b[38;5;241m=\u001b[39m \u001b[38;5;241m-\u001b[39mloss\n",
      "File \u001b[0;32m~/Reproducibility/Variational_Functions.py:173\u001b[0m, in \u001b[0;36mmvlb1\u001b[0;34m(X, Y, Z, A_list, w_list, theta, nu, sig, lam)\u001b[0m\n\u001b[1;32m    172\u001b[0m     phi2_list\u001b[38;5;241m.\u001b[39mappend(sfphi2(X\u001b[38;5;241m=\u001b[39m X, Z \u001b[38;5;241m=\u001b[39m Z, theta \u001b[38;5;241m=\u001b[39m theta, nu \u001b[38;5;241m=\u001b[39m nu, w \u001b[38;5;241m=\u001b[39m w_list[i], A \u001b[38;5;241m=\u001b[39m A_list[i]))\n\u001b[0;32m--> 173\u001b[0m     KL_sum \u001b[38;5;241m+\u001b[39m\u001b[38;5;241m=\u001b[39m \u001b[43mskl\u001b[49m\u001b[43m(\u001b[49m\u001b[43mA\u001b[49m\u001b[43m \u001b[49m\u001b[38;5;241;43m=\u001b[39;49m\u001b[43m \u001b[49m\u001b[43mA_list\u001b[49m\u001b[43m[\u001b[49m\u001b[43mi\u001b[49m\u001b[43m]\u001b[49m\u001b[43m,\u001b[49m\u001b[43m \u001b[49m\u001b[43mw\u001b[49m\u001b[43m \u001b[49m\u001b[38;5;241;43m=\u001b[39;49m\u001b[43m \u001b[49m\u001b[43mw_list\u001b[49m\u001b[43m[\u001b[49m\u001b[43mi\u001b[49m\u001b[43m]\u001b[49m\u001b[43m,\u001b[49m\u001b[43m \u001b[49m\u001b[43mlam\u001b[49m\u001b[43m \u001b[49m\u001b[38;5;241;43m=\u001b[39;49m\u001b[43m \u001b[49m\u001b[43mlam\u001b[49m\u001b[43m[\u001b[49m\u001b[43mi\u001b[49m\u001b[43m]\u001b[49m\u001b[38;5;241;43m*\u001b[39;49m\u001b[38;5;241;43m*\u001b[39;49m\u001b[38;5;241;43m2\u001b[39;49m\u001b[43m)\u001b[49m\n\u001b[1;32m    175\u001b[0m phi1_sum \u001b[38;5;241m=\u001b[39m torch\u001b[38;5;241m.\u001b[39mcat([m[\u001b[38;5;28;01mNone\u001b[39;00m] \u001b[38;5;28;01mfor\u001b[39;00m m \u001b[38;5;129;01min\u001b[39;00m phi1_list])\u001b[38;5;241m.\u001b[39msum(\u001b[38;5;241m0\u001b[39m)\n",
      "File \u001b[0;32m~/Reproducibility/Variational_Functions.py:133\u001b[0m, in \u001b[0;36mskl\u001b[0;34m(A, w, lam)\u001b[0m\n\u001b[1;32m    132\u001b[0m t2 \u001b[38;5;241m=\u001b[39m math\u001b[38;5;241m.\u001b[39msqrt(\u001b[38;5;241m2\u001b[39m \u001b[38;5;241m/\u001b[39m math\u001b[38;5;241m.\u001b[39mpi) \u001b[38;5;241m*\u001b[39m norm_scale \u001b[38;5;241m*\u001b[39m torch\u001b[38;5;241m.\u001b[39mexp(\u001b[38;5;241m-\u001b[39m\u001b[38;5;241m0.5\u001b[39m \u001b[38;5;241m*\u001b[39m loc_diff_scale_ratio\u001b[38;5;241m.\u001b[39mpow(\u001b[38;5;241m2\u001b[39m))\n\u001b[0;32m--> 133\u001b[0m t3 \u001b[38;5;241m=\u001b[39m loc_diff \u001b[38;5;241m*\u001b[39m \u001b[43mtorch\u001b[49m\u001b[38;5;241;43m.\u001b[39;49m\u001b[43merf\u001b[49m\u001b[43m(\u001b[49m\u001b[43mmath\u001b[49m\u001b[38;5;241;43m.\u001b[39;49m\u001b[43msqrt\u001b[49m\u001b[43m(\u001b[49m\u001b[38;5;241;43m0.5\u001b[39;49m\u001b[43m)\u001b[49m\u001b[43m \u001b[49m\u001b[38;5;241;43m*\u001b[39;49m\u001b[43m \u001b[49m\u001b[43mloc_diff_scale_ratio\u001b[49m\u001b[43m)\u001b[49m\n\u001b[1;32m    134\u001b[0m kl \u001b[38;5;241m=\u001b[39m \u001b[38;5;241m-\u001b[39mt1 \u001b[38;5;241m+\u001b[39m (t2 \u001b[38;5;241m+\u001b[39m t3) \u001b[38;5;241m/\u001b[39m lam \u001b[38;5;241m-\u001b[39m (\u001b[38;5;241m0.5\u001b[39m \u001b[38;5;241m*\u001b[39m (\u001b[38;5;241m1\u001b[39m \u001b[38;5;241m+\u001b[39m math\u001b[38;5;241m.\u001b[39mlog(\u001b[38;5;241m0.5\u001b[39m \u001b[38;5;241m*\u001b[39m math\u001b[38;5;241m.\u001b[39mpi)))\n",
      "\u001b[0;31mRuntimeError\u001b[0m: CUDA error: an illegal memory access was encountered\nCUDA kernel errors might be asynchronously reported at some other API call, so the stacktrace below might be incorrect.\nFor debugging consider passing CUDA_LAUNCH_BLOCKING=1\nCompile with `TORCH_USE_CUDA_DSA` to enable device-side assertions.\n",
      "\nDuring handling of the above exception, another exception occurred:\n",
      "\u001b[0;31mRuntimeError\u001b[0m                              Traceback (most recent call last)",
      "Cell \u001b[0;32mIn[2], line 25\u001b[0m\n\u001b[1;32m     22\u001b[0m     vim3_dict \u001b[38;5;241m=\u001b[39m vim_stats(X \u001b[38;5;241m=\u001b[39m X, Y \u001b[38;5;241m=\u001b[39m Y, Xtest \u001b[38;5;241m=\u001b[39m Xtest, Ytest\u001b[38;5;241m=\u001b[39m  Ytest, \n\u001b[1;32m     23\u001b[0m                             d1 \u001b[38;5;241m=\u001b[39m \u001b[38;5;241m4\u001b[39m, J \u001b[38;5;241m=\u001b[39m \u001b[38;5;241m3\u001b[39m,nm \u001b[38;5;241m=\u001b[39m nm, ft \u001b[38;5;241m=\u001b[39m \u001b[38;5;241m1.75\u001b[39m, iters \u001b[38;5;241m=\u001b[39m \u001b[38;5;241m5000\u001b[39m, verbose \u001b[38;5;241m=\u001b[39m \u001b[38;5;28;01mFalse\u001b[39;00m, lr \u001b[38;5;241m=\u001b[39m \u001b[38;5;241m.005\u001b[39m, retry \u001b[38;5;241m=\u001b[39m \u001b[38;5;28;01mTrue\u001b[39;00m, lam_init \u001b[38;5;241m=\u001b[39m \u001b[38;5;241m.01\u001b[39m)\n\u001b[1;32m     24\u001b[0m \u001b[38;5;28;01mexcept\u001b[39;00m:\n\u001b[0;32m---> 25\u001b[0m     vim3_dict \u001b[38;5;241m=\u001b[39m \u001b[43mvim_stats\u001b[49m\u001b[43m(\u001b[49m\u001b[43mX\u001b[49m\u001b[43m \u001b[49m\u001b[38;5;241;43m=\u001b[39;49m\u001b[43m \u001b[49m\u001b[43mX\u001b[49m\u001b[43m,\u001b[49m\u001b[43m \u001b[49m\u001b[43mY\u001b[49m\u001b[43m \u001b[49m\u001b[38;5;241;43m=\u001b[39;49m\u001b[43m \u001b[49m\u001b[43mY\u001b[49m\u001b[43m,\u001b[49m\u001b[43m \u001b[49m\u001b[43mXtest\u001b[49m\u001b[43m \u001b[49m\u001b[38;5;241;43m=\u001b[39;49m\u001b[43m \u001b[49m\u001b[43mXtest\u001b[49m\u001b[43m,\u001b[49m\u001b[43m \u001b[49m\u001b[43mYtest\u001b[49m\u001b[38;5;241;43m=\u001b[39;49m\u001b[43m  \u001b[49m\u001b[43mYtest\u001b[49m\u001b[43m,\u001b[49m\u001b[43m \u001b[49m\n\u001b[1;32m     26\u001b[0m \u001b[43m                            \u001b[49m\u001b[43md1\u001b[49m\u001b[43m \u001b[49m\u001b[38;5;241;43m=\u001b[39;49m\u001b[43m \u001b[49m\u001b[38;5;28;43mint\u001b[39;49m\u001b[43m(\u001b[49m\u001b[43mLp\u001b[49m\u001b[38;5;241;43m/\u001b[39;49m\u001b[38;5;241;43m3\u001b[39;49m\u001b[43m)\u001b[49m\u001b[43m,\u001b[49m\u001b[43m \u001b[49m\u001b[43mJ\u001b[49m\u001b[43m \u001b[49m\u001b[38;5;241;43m=\u001b[39;49m\u001b[43m \u001b[49m\u001b[38;5;241;43m3\u001b[39;49m\u001b[43m,\u001b[49m\u001b[43m \u001b[49m\u001b[43mnm\u001b[49m\u001b[43m \u001b[49m\u001b[38;5;241;43m=\u001b[39;49m\u001b[43m \u001b[49m\u001b[43mnm\u001b[49m\u001b[43m,\u001b[49m\u001b[43m \u001b[49m\u001b[43mft\u001b[49m\u001b[43m \u001b[49m\u001b[38;5;241;43m=\u001b[39;49m\u001b[43m \u001b[49m\u001b[38;5;241;43m1.75\u001b[39;49m\u001b[43m,\u001b[49m\u001b[43m \u001b[49m\u001b[43miters\u001b[49m\u001b[43m \u001b[49m\u001b[38;5;241;43m=\u001b[39;49m\u001b[38;5;241;43m4500\u001b[39;49m\u001b[43m,\u001b[49m\u001b[43m \u001b[49m\n\u001b[1;32m     27\u001b[0m \u001b[43m                            \u001b[49m\u001b[43mlr\u001b[49m\u001b[43m \u001b[49m\u001b[38;5;241;43m=\u001b[39;49m\u001b[43m \u001b[49m\u001b[38;5;241;43m.0025\u001b[39;49m\u001b[43m,\u001b[49m\u001b[43m \u001b[49m\u001b[43mretry\u001b[49m\u001b[43m \u001b[49m\u001b[38;5;241;43m=\u001b[39;49m\u001b[43m \u001b[49m\u001b[38;5;28;43;01mFalse\u001b[39;49;00m\u001b[43m)\u001b[49m\n\u001b[1;32m     29\u001b[0m \u001b[38;5;28;01mtry\u001b[39;00m:\n\u001b[1;32m     30\u001b[0m     vim4_dict \u001b[38;5;241m=\u001b[39m vim_stats(X \u001b[38;5;241m=\u001b[39m X, Y \u001b[38;5;241m=\u001b[39m Y, Xtest \u001b[38;5;241m=\u001b[39m Xtest, Ytest\u001b[38;5;241m=\u001b[39m  Ytest, \n\u001b[1;32m     31\u001b[0m                             d1 \u001b[38;5;241m=\u001b[39m  \u001b[38;5;241m4\u001b[39m, J \u001b[38;5;241m=\u001b[39m \u001b[38;5;241m4\u001b[39m, nm \u001b[38;5;241m=\u001b[39m nm, ft \u001b[38;5;241m=\u001b[39m \u001b[38;5;241m1.75\u001b[39m, iters \u001b[38;5;241m=\u001b[39m \u001b[38;5;241m5000\u001b[39m, verbose \u001b[38;5;241m=\u001b[39m \u001b[38;5;28;01mFalse\u001b[39;00m, lr \u001b[38;5;241m=\u001b[39m \u001b[38;5;241m.005\u001b[39m, retry \u001b[38;5;241m=\u001b[39m \u001b[38;5;28;01mTrue\u001b[39;00m, lam_init \u001b[38;5;241m=\u001b[39m \u001b[38;5;241m.01\u001b[39m)\n",
      "File \u001b[0;32m~/Reproducibility/helpers.py:268\u001b[0m, in \u001b[0;36mvim_stats\u001b[0;34m(X, Y, Xtest, Ytest, d1, J, nm, verbose, iters, lr, ft, retry, tinit, nuinit, g, lam_init)\u001b[0m\n\u001b[1;32m    266\u001b[0m \u001b[38;5;28;01mdef\u001b[39;00m \u001b[38;5;21mvim_stats\u001b[39m(X, Y, Xtest, Ytest, d1, J, nm, verbose \u001b[38;5;241m=\u001b[39m \u001b[38;5;28;01mFalse\u001b[39;00m, iters \u001b[38;5;241m=\u001b[39m \u001b[38;5;241m4000\u001b[39m,\n\u001b[1;32m    267\u001b[0m               lr \u001b[38;5;241m=\u001b[39m \u001b[38;5;241m.0025\u001b[39m, ft \u001b[38;5;241m=\u001b[39m \u001b[38;5;241m1.25\u001b[39m, retry \u001b[38;5;241m=\u001b[39m \u001b[38;5;28;01mTrue\u001b[39;00m, tinit \u001b[38;5;241m=\u001b[39m \u001b[38;5;241m1.\u001b[39m, nuinit \u001b[38;5;241m=\u001b[39m \u001b[38;5;28;01mNone\u001b[39;00m, g \u001b[38;5;241m=\u001b[39m  \u001b[38;5;28;01mNone\u001b[39;00m, lam_init \u001b[38;5;241m=\u001b[39m \u001b[38;5;28;01mNone\u001b[39;00m):\n\u001b[0;32m--> 268\u001b[0m     X, Y, Xtest, Ytest \u001b[38;5;241m=\u001b[39m \u001b[43mX\u001b[49m\u001b[38;5;241;43m.\u001b[39;49m\u001b[43mdouble\u001b[49m\u001b[43m(\u001b[49m\u001b[43m)\u001b[49m, Y\u001b[38;5;241m.\u001b[39mdouble(), Xtest\u001b[38;5;241m.\u001b[39mdouble(), Ytest\u001b[38;5;241m.\u001b[39mdouble()\n\u001b[1;32m    269\u001b[0m     \u001b[38;5;28;01mif\u001b[39;00m nuinit \u001b[38;5;129;01mis\u001b[39;00m \u001b[38;5;28;01mNone\u001b[39;00m:\n\u001b[1;32m    270\u001b[0m         \u001b[38;5;28;01mif\u001b[39;00m d1\u001b[38;5;241m*\u001b[39mJ \u001b[38;5;241m<\u001b[39m \u001b[38;5;241m10\u001b[39m:\n",
      "\u001b[0;31mRuntimeError\u001b[0m: CUDA error: an illegal memory access was encountered\nCUDA kernel errors might be asynchronously reported at some other API call, so the stacktrace below might be incorrect.\nFor debugging consider passing CUDA_LAUNCH_BLOCKING=1\nCompile with `TORCH_USE_CUDA_DSA` to enable device-side assertions.\n"
     ]
    }
   ],
   "source": [
    "nm = 125\n",
    "def dict_series(dict, n, method, folds, lp):\n",
    "    dict = {key: float(item) for key, item in dict.items()}\n",
    "    dict[\"n\"] = n\n",
    "    dict[\"method\"] = method\n",
    "    dict[\"fold\"] = folds\n",
    "    dict[\"lp\"] = lp\n",
    "    return pd.Series(dict)\n",
    "    \n",
    "\n",
    "ddp_list =  [12, 36, 48]\n",
    "D = 30\n",
    "n_list = [300, 400, 500]\n",
    "#df = pd.DataFrame(columns=['rmse', 'nll','crps', \"cov\", \"unc\", \"loss\", \"n\", \"method\", \"fold\", \"lp\"])\n",
    "for n in n_list:\n",
    "    for Lp in ddp_list:\n",
    "        df = pd.DataFrame(columns=['rmse', 'nll','crps', \"cov\", \"unc\", \"loss\", \"n\", \"method\", \"fold\", \"lp\"])\n",
    "        for f in range(10):\n",
    "            X, Y, Xtest, Ytest = draw_exp(ntrain = n, ntest = 300, D = D, stride = int(30//3))\n",
    "                    \n",
    "            try:\n",
    "                vim3_dict = vim_stats(X = X, Y = Y, Xtest = Xtest, Ytest=  Ytest, \n",
    "                                        d1 = 4, J = 3,nm = nm, ft = 1.75, iters = 5000, verbose = False, lr = .005, retry = True, lam_init = .01)\n",
    "            except:\n",
    "                vim3_dict = vim_stats(X = X, Y = Y, Xtest = Xtest, Ytest=  Ytest, \n",
    "                                        d1 = int(Lp/3), J = 3, nm = nm, ft = 1.75, iters =4500, \n",
    "                                        lr = .0025, retry = False)\n",
    "                \n",
    "            try:\n",
    "                vim4_dict = vim_stats(X = X, Y = Y, Xtest = Xtest, Ytest=  Ytest, \n",
    "                                        d1 =  4, J = 4, nm = nm, ft = 1.75, iters = 5000, verbose = False, lr = .005, retry = True, lam_init = .01)\n",
    "            except:\n",
    "                vim4_dict = vim_stats(X = X, Y = Y, Xtest = Xtest, Ytest=  Ytest, \n",
    "                                        d1 = int(Lp/4), J = 4, nm = nm, ft = 1.75, iters =4500, \n",
    "                                        lr = .0025, retry = False, lam_init = .2)\n",
    "            dict_list = [vim3_dict, vim4_dict]\n",
    "            print(dict_list)\n",
    "            dict_dict = [dict_series(dict_list[i-3], n = n, method = \"J={}\".format(i), folds = f, lp = Lp) for i in range(3, 5)]\n",
    "            \n",
    "            result = pd.concat(dict_dict, ignore_index = True, axis = 1).T\n",
    "            df = pd.concat([df, result], ignore_index=True)\n",
    "            df.to_csv(\"reviewer_results/review_lp_{}_{}_25.csv\".format(Lp, n, 25))\n",
    "            print(df)"
   ]
  },
  {
   "cell_type": "markdown",
   "id": "2f2464f6-c1f9-4fcf-9abe-18de2d07e941",
   "metadata": {},
   "source": [
    "# Simulation for Reviewer 1 Minor Comment 3, Response Figure 4"
   ]
  },
  {
   "cell_type": "code",
   "execution_count": null,
   "id": "bcadfcb8-ac9b-441b-b1f5-cb2f4935bd6b",
   "metadata": {},
   "outputs": [],
   "source": [
    "df = pd.DataFrame(columns=['train_rmse', \"cov\", \"method\"])\n",
    "\n",
    "for i in range(10):\n",
    "    X, Y, Xtest, Ytest = draw_exp(ntrain = 300, ntest = 300, D = 25, stride = int(25//3))\n",
    "    \n",
    "    \n",
    "    try:\n",
    "        dle_dict = dle_stats(X = X, Y = Y, Xtest = Xtrain, Ytest=  Ytrain, \n",
    "                d1 = 8, retry = True, train_stats = True)\n",
    "    except:\n",
    "        dle_dict = dle_stats(X = X, Y = Y, Xtest = Xtest, Ytest=  Ytest, \n",
    "                                d1 = 8, ft = 1.25, retry = False, train_stats = True)\n",
    "    dle = pd.Series({\"train_rmse\": dle_dict[\"train_rmse\"], \"cov\": dle_dict[\"cov\"], \"method\": \"DR-GP\"})\n",
    "    \n",
    "    try:\n",
    "        dpa_dict = dpa_stats(X = X, Y = Y, Xtest = Xtrain, Ytest = Ytrain.float(), \n",
    "                             num_proj = 8, retry = True, train_stats=  True)\n",
    "    except:\n",
    "        dpa_dict = dpa_stats(X = X, Y = Y, Xtest = Xtest, Ytest = Ytest.float(),\n",
    "                             num_proj = 8, train_stats = True)\n",
    "    dpa = pd.Series({\"train_rmse\": dpa_dict[\"train_rmse\"], \"cov\": dpa_dict[\"cov\"], \"method\": \"DPA-GP\"})\n",
    "\n",
    "    df = pd.concat([df, pd.DataFrame(dle).T, pd.DataFrame(dpa).T], ignore_index=True)\n",
    "df.to_csv(\"reviewer_results/numerical_instability.csv\")"
   ]
  }
 ],
 "metadata": {
  "kernelspec": {
   "display_name": "Python 3 (ipykernel)",
   "language": "python",
   "name": "python3"
  },
  "language_info": {
   "codemirror_mode": {
    "name": "ipython",
    "version": 3
   },
   "file_extension": ".py",
   "mimetype": "text/x-python",
   "name": "python",
   "nbconvert_exporter": "python",
   "pygments_lexer": "ipython3",
   "version": "3.12.7"
  }
 },
 "nbformat": 4,
 "nbformat_minor": 5
}
