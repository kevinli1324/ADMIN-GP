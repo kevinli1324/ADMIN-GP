{
 "cells": [
  {
   "cell_type": "code",
   "execution_count": null,
   "id": "69b4df2c-ace3-4eb0-9a40-38743f46533c",
   "metadata": {},
   "outputs": [],
   "source": [
    "from Variational_Functions import *\n",
    "from helpers import *\n",
    "from sim_functions import *\n",
    "from scipy.stats import qmc\n",
    "\n",
    "def order_matrix(A):\n",
    "    idx = np.argsort(-(np.square(np.abs(A)).sum(1)))\n",
    "    return A[idx]    \n",
    "\n",
    "\n"
   ]
  },
  {
   "cell_type": "markdown",
   "id": "d39727f6-b63f-4704-9f75-f9594b1870a0",
   "metadata": {},
   "source": [
    "# Simulations for Section 4 Figures: 7, 8"
   ]
  },
  {
   "cell_type": "code",
   "execution_count": null,
   "id": "207013f0-107e-4b2d-a3a0-75a983254f92",
   "metadata": {},
   "outputs": [],
   "source": [
    "t_list = []\n",
    "nx_ll = []\n",
    "\n",
    "import matplotlib\n",
    "font = {'family' : 'sans-serif',\n",
    "        'weight' : 'normal',\n",
    "        'size'   : 75}\n",
    "\n",
    "matplotlib.rc('font', **font)\n",
    "\n",
    "for i in range(20):\n",
    "    print(i)\n",
    "    X, Y, Xtest, Ytest, nXList = draw_exp(ntrain = 500, ntest = 300, D = 20, stride = int(20//3), returnM = True)\n",
    "    t = vim_fitb(X = X.double(), Y = Y.double(), d1 = 4,nm =100, J = 3, lr = .0025, iters = 3000, tinit = 1., nuinit = 1., lam_init = .075, verbose = False, init = 0.125, rep = True)\n",
    "    t_list.append(t)\n",
    "    nx_ll.append(nXList)\n",
    "\n",
    "    M1 = order_matrix((t.A_list[0].cpu().detach().numpy()))\n",
    "    M2 = order_matrix(t.A_list[1].cpu().detach().numpy())\n",
    "    M3 = order_matrix(t.A_list[2].cpu().detach().numpy())\n",
    "    xcol = np.arange(20) + 1\n",
    "    ycol = np.arange(4) + 1\n",
    "    \n",
    "    \n",
    "    vmax = np.max(np.abs(np.concatenate([M1, M2, M3], axis = 0)))\n",
    "    vmin = np.min(np.concatenate([M1, M2, M3], axis = 0))\n",
    "    vmin = 0\n",
    "    fig, axs = plt.subplots(nrows=3, ncols=1, figsize = (70, 40))\n",
    "    ax1 = axs[0].imshow(np.abs(M1), vmin = vmin, vmax = vmax, cmap = 'viridis')\n",
    "    axs[0].set_title(\"Absolute Values $\\hat{M}_0$\", fontdict = {'fontsize': 100})\n",
    "    axs[0].set_xticks(np.arange(20))\n",
    "    axs[0].set_yticks(np.arange(4))\n",
    "    axs[0].set_xticklabels(xcol)\n",
    "    axs[0].set_yticklabels(ycol)\n",
    "    \n",
    "    ax2 = axs[1].imshow(np.abs(M3), vmin = vmin, vmax = vmax, cmap = 'viridis')\n",
    "    axs[1].set_title(\"Absolute Values $\\hat{M}_1$\", fontdict = {'fontsize': 100})\n",
    "    axs[1].set_xticks(np.arange(20))\n",
    "    axs[1].set_yticks(np.arange(4))\n",
    "    axs[1].set_xticklabels(xcol)\n",
    "    axs[1].set_yticklabels(ycol)\n",
    "    \n",
    "    ax3 = axs[2].imshow(np.abs(M2), vmin = vmin, vmax = vmax, cmap = 'viridis')\n",
    "    axs[2].set_title(\"Absolute Values $\\hat{M}_2$\", fontdict = {'fontsize': 100})\n",
    "    axs[2].set_xticks(np.arange(20))\n",
    "    axs[2].set_yticks(np.arange(4))\n",
    "    axs[2].set_xticklabels(xcol)\n",
    "    axs[2].set_yticklabels(ycol)\n",
    "    \n",
    "    \n",
    "    fig.colorbar(ax1, fraction=0.03, pad=0.02, orientation = 'vertical')\n",
    "    fig.colorbar(ax2, fraction=0.03, pad=0.02, orientation = 'vertical')\n",
    "    fig.colorbar(ax3, fraction=0.03, pad=0.02, orientation = 'vertical')\n",
    "    \n",
    "    fig.tight_layout()\n",
    "    plt.show()\n",
    "f = open(\"sim_results/variable_selection.pickle\", \"wb\")\n",
    "pickle.dump([t_list, nx_ll], f)\n",
    "f.close()"
   ]
  }
 ],
 "metadata": {
  "kernelspec": {
   "display_name": "Python 3 (ipykernel)",
   "language": "python",
   "name": "python3"
  },
  "language_info": {
   "codemirror_mode": {
    "name": "ipython",
    "version": 3
   },
   "file_extension": ".py",
   "mimetype": "text/x-python",
   "name": "python",
   "nbconvert_exporter": "python",
   "pygments_lexer": "ipython3",
   "version": "3.10.14"
  }
 },
 "nbformat": 4,
 "nbformat_minor": 5
}
